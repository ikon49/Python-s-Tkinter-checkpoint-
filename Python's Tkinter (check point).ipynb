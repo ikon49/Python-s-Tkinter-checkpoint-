{
 "cells": [
  {
   "cell_type": "code",
   "execution_count": null,
   "id": "4ac04513-cb07-447d-97dc-caf51c88622f",
   "metadata": {},
   "outputs": [],
   "source": [
    "# Building a simple temperature converter program using Python and Tkinter GUI framework. The program should convert temperature from Fahrenheit to Cels"
   ]
  },
  {
   "cell_type": "code",
   "execution_count": 5,
   "id": "aea047f7-e9c7-4adb-8309-63832d465c13",
   "metadata": {},
   "outputs": [],
   "source": [
    "import tkinter as tk\n",
    "\n",
    "def fahrenheit_to_celsius():\n",
    "    \"\"\"Convert the value for Fahrenheit to Celsius and insert the result into lbl_result.\"\"\"\n",
    "    fahrenheit = float(ent_temperature.get())\n",
    "    celsius = (fahrenheit - 32) * 5.0 / 9.0\n",
    "    lbl_result[\"text\"] = f\"{round(celsius, 2)} \\N{DEGREE CELSIUS}\"\n",
    "\n",
    "# Create the main window\n",
    "window = tk.Tk()\n",
    "window.title(\"Temperature Converter\")\n",
    "window.resizable(width=False, height=False)\n",
    "\n",
    "# Create a frame to hold the entry and label widgets\n",
    "frm_entry = tk.Frame(master=window)\n",
    "\n",
    "# Create an entry widget to accept the temperature in Fahrenheit\n",
    "ent_temperature = tk.Entry(master=frm_entry, width=10)\n",
    "\n",
    "# Create a label widget to display the degree symbol and the text \"F\"\n",
    "lbl_temp = tk.Label(master=frm_entry, text=\"\\N{DEGREE FAHRENHEIT}\")\n",
    "\n",
    "# Use the grid geometry manager to arrange the entry and label widgets in the frame\n",
    "ent_temperature.grid(row=0, column=0, sticky=\"e\")\n",
    "lbl_temp.grid(row=0, column=1, sticky=\"w\")\n",
    "\n",
    "# Create a button widget to initiate the conversion process\n",
    "btn_convert = tk.Button(\n",
    "    master=window,\n",
    "    text=\"\\N{RIGHTWARDS BLACK ARROW}\",\n",
    "    command=fahrenheit_to_celsius\n",
    ")\n",
    "\n",
    "# Create a label widget to display the result of the conversion in Celsius\n",
    "lbl_result = tk.Label(master=window, text=\"\\N{DEGREE CELSIUS}\")\n",
    "\n",
    "# Use the grid geometry manager to arrange the frame, button, and result label widgets\n",
    "frm_entry.grid(row=0, column=0, padx=10)\n",
    "btn_convert.grid(row=0, column=1, pady=10)\n",
    "lbl_result.grid(row=0, column=2, padx=10)\n",
    "\n",
    "# Start the application\n",
    "window.mainloop()\n"
   ]
  }
 ],
 "metadata": {
  "kernelspec": {
   "display_name": "Python 3 (ipykernel)",
   "language": "python",
   "name": "python3"
  },
  "language_info": {
   "codemirror_mode": {
    "name": "ipython",
    "version": 3
   },
   "file_extension": ".py",
   "mimetype": "text/x-python",
   "name": "python",
   "nbconvert_exporter": "python",
   "pygments_lexer": "ipython3",
   "version": "3.11.7"
  }
 },
 "nbformat": 4,
 "nbformat_minor": 5
}
